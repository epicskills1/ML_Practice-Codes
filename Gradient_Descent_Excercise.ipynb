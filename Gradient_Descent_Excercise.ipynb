{
  "nbformat": 4,
  "nbformat_minor": 0,
  "metadata": {
    "colab": {
      "provenance": [],
      "authorship_tag": "ABX9TyNM0Te/3nhxJfs/G4lAsbZW",
      "include_colab_link": true
    },
    "kernelspec": {
      "name": "python3",
      "display_name": "Python 3"
    },
    "language_info": {
      "name": "python"
    }
  },
  "cells": [
    {
      "cell_type": "markdown",
      "metadata": {
        "id": "view-in-github",
        "colab_type": "text"
      },
      "source": [
        "<a href=\"https://colab.research.google.com/github/epicskills1/ML_Practice-Codes/blob/main/Gradient_Descent_Excercise.ipynb\" target=\"_parent\"><img src=\"https://colab.research.google.com/assets/colab-badge.svg\" alt=\"Open In Colab\"/></a>"
      ]
    },
    {
      "cell_type": "markdown",
      "source": [
        "1. For test scores in.csv files run a Gradient Decsent Algorithm to find the value of m,b and appropiate learning rate\n",
        "2.On each iteration,compare previous cost with current cost,stop when cost are similar(Use math.iclose function with 1e-20 threshold)\n",
        "3.Now using sklearn.linear_model find coefficient(i.e. m) and intercept(b) then compare m with b using your Gradient Desecent Algorithm"
      ],
      "metadata": {
        "id": "8FJ-Q66zUvZx"
      }
    },
    {
      "cell_type": "code",
      "execution_count": 4,
      "metadata": {
        "id": "KFhciVzhUQcH"
      },
      "outputs": [],
      "source": [
        "import numpy as np\n",
        "import pandas as pd\n",
        "import matplotlib.pyplot as plt\n",
        "from sklearn.linear_model import LinearRegression"
      ]
    },
    {
      "cell_type": "code",
      "source": [
        "def predict_using_sklearn():\n",
        "    import pandas as pd\n",
        "    from sklearn.linear_model import LinearRegression\n",
        "\n",
        "    df = pd.read_csv(\"test_scores.csv\")\n",
        "    reg = LinearRegression()\n",
        "    # Reshape df['math'] to a 2D array using reshape(-1, 1)\n",
        "    reg.fit(df['math'].values.reshape(-1, 1), df['cs'])\n",
        "    return reg.coef_, reg.intercept_"
      ],
      "metadata": {
        "id": "1fQZSgegZDGC"
      },
      "execution_count": 20,
      "outputs": []
    },
    {
      "cell_type": "code",
      "source": [
        "import numpy as np\n",
        "import pandas as pd\n",
        "import matplotlib.pyplot as plt\n",
        "from sklearn.linear_model import LinearRegression\n",
        "import math\n",
        "def gradient_descent(x,y):\n",
        "    m_curr=0\n",
        "    b_curr=0\n",
        "    iterations=100\n",
        "    n=len(x)\n",
        "    learning_rate=0.0002\n",
        "    cost_previous=0\n",
        "    for i in range(iterations):\n",
        "        y_pred=m_curr*x+b_curr\n",
        "        cost=(1/n)*sum([val**2 for val in (y-y_pred)])\n",
        "        md=2/n*sum(x*(y-y_pred))\n",
        "        bd=2/n*sum(y-y_pred)\n",
        "        m_curr=m_curr-learning_rate*md\n",
        "        b_curr=b_curr-learning_rate*bd\n",
        "\n",
        "        if(math.isclose(cost,cost_previous,rel_tol=1e-20)):\n",
        "            break\n",
        "        cost_previous = cost\n",
        "        print (\"m {}, b {}, cost {}, iteration {}\".format(m_curr,b_curr,cost, i))\n",
        "\n",
        "    return m_curr, b_curr"
      ],
      "metadata": {
        "id": "yKbmwvq8bieS"
      },
      "execution_count": 21,
      "outputs": []
    },
    {
      "cell_type": "code",
      "source": [
        "if __name__ == \"__main__\":\n",
        "    df= pd.read_csv(\"test_scores.csv\")\n",
        "    x=np.array(df.math)\n",
        "    y=np.array(df.cs)\n",
        "    m,b=gradient_descent(x,y)\n",
        "    print(\"m {}, b {}\".format(m,b))\n",
        "    print(predict_using_sklearn())"
      ],
      "metadata": {
        "colab": {
          "base_uri": "https://localhost:8080/"
        },
        "id": "Poo03fxydjU0",
        "outputId": "b4dea24d-8c2b-4e6a-8464-5512d2213cca"
      },
      "execution_count": 22,
      "outputs": [
        {
          "output_type": "stream",
          "name": "stdout",
          "text": [
            "m -1.9783600000000003, b -0.027960000000000002, cost 5199.1, iteration 0\n",
            "m -7.703689587200001, b -0.1087929632, cost 43308.38295746018, iteration 1\n",
            "m -24.272663137498625, b -0.34263906615526407, cost 362477.5575087128, iteration 2\n",
            "m -72.2228933705137, b -1.0193016808156896, cost 3035552.307227144, iteration 3\n",
            "m -210.98975999782985, b -2.977465112348142, cost 25422828.985163763, iteration 4\n",
            "m -612.5778873975224, b -8.644262485535094, cost 212918579.75257576, iteration 5\n",
            "m -1774.7647096670844, b -25.04376134179111, cost 1783214827.1069088, iteration 6\n",
            "m -5138.1066931957275, b -72.50345188863233, cost 14934607828.615808, iteration 7\n",
            "m -14871.541179665623, b -209.85062411157764, cost 125078880396.00113, iteration 8\n",
            "m -43039.87712615671, b -607.3301046818877, cost 1047548521293.0962, iteration 9\n",
            "m -124558.39467264415, b -1757.6265135346675, cost 8773326889443.934, iteration 10\n",
            "m -360471.11296520475, b -5086.557829793133, cost 73477517409732.08, iteration 11\n",
            "m -1043197.1036613286, b -14720.408551355322, cost 615381785353133.5, iteration 12\n",
            "m -3018990.4468309125, b -42600.55128460657, cost 5153885910881078.0, iteration 13\n",
            "m -8736891.022040255, b -123285.0442044424, cost 4.316432597551904e+16, iteration 14\n",
            "m -25284364.016116828, b -356784.1142910399, cost 3.615056811768584e+17, iteration 15\n",
            "m -73172370.96692951, b -1032525.062407398, cost 3.027647358544742e+18, iteration 16\n",
            "m -211759163.67793477, b -2988103.852628717, cost 2.5356858840673047e+19, iteration 17\n",
            "m -612826160.1317743, b -8647503.975604184, cost 2.1236630760554188e+20, iteration 18\n",
            "m -1773504840.2418904, b -25025678.003875438, cost 1.7785897255408836e+21, iteration 19\n",
            "m -5132482293.818558, b -72423737.6343003, cost 1.4895872360673123e+22, iteration 20\n",
            "m -14853285929.641327, b -209592634.0481459, cost 1.24754467092172e+23, iteration 21\n",
            "m -42985068483.17027, b -606556271.1697414, cost 1.0448315266544437e+24, iteration 22\n",
            "m -124397801348.44554, b -1755359923.576479, cost 8.750571779401677e+24, iteration 23\n",
            "m -360004381200.99835, b -5079971319.604334, cost 7.328694101684184e+25, iteration 24\n",
            "m -1041844414278.8472, b -14701320373.850813, cost 6.1378568841055756e+26, iteration 25\n",
            "m -3015073816439.6396, b -42545283651.55911, cost 5.140518434396738e+27, iteration 26\n",
            "m -8725554405230.891, b -123125074140.3149, cost 4.305237198150052e+28, iteration 27\n",
            "m -25251554128959.117, b -356321137877.76843, cost 3.6056805493218864e+29, iteration 28\n",
            "m -73077417928362.19, b -1031185192658.7351, cost 3.019794642057038e+30, iteration 29\n",
            "m -211484369785858.7, b -2984226273781.664, cost 2.5291091530311565e+31, iteration 30\n",
            "m -612030910938398.1, b -8636282324969.35, cost 2.1181549959929896e+32, iteration 31\n",
            "m -1771203405355074.0, b -24993202778173.367, cost 1.7739766516889388e+33, iteration 32\n",
            "m -5125821992113678.0, b -72329755050372.25, cost 1.4857237391460064e+34, iteration 33\n",
            "m -1.4834011167435086e+16, b -209320650581669.94, cost 1.2443089524095086e+35, iteration 34\n",
            "m -4.292928776187371e+16, b -605769157235768.1, cost 1.0421215790335379e+36, iteration 35\n",
            "m -1.242363732196391e+17, b -1753082033895928.5, cost 8.727875688625122e+36, iteration 36\n",
            "m -3.5953721190029344e+17, b -5073379159138244.0, cost 7.309685891615328e+37, iteration 37\n",
            "m -1.0404924370458214e+18, b -1.468224281277774e+16, cost 6.121937312159076e+38, iteration 38\n",
            "m -3.0111612253637463e+18, b -4.24900736277672e+16, cost 5.1271856287279403e+39, iteration 39\n",
            "m -8.714231456479871e+18, b -1.2296529759893762e+17, cost 4.294070835913719e+40, iteration 40\n",
            "m -2.5218785775221998e+19, b -3.5585874823511936e+17, cost 3.5963286058007426e+41, iteration 41\n",
            "m -7.298258706493522e+19, b -1.0298470476483452e+18, cost 3.0119622929202597e+42, iteration 42\n",
            "m -2.112099314442097e+20, b -2.980353712842474e+18, cost 2.522549479861438e+43, iteration 43\n",
            "m -6.112366926781725e+20, b -8.625075222516896e+18, cost 2.1126612020695957e+44, iteration 44\n",
            "m -1.7689049559435056e+21, b -2.4960769680966672e+19, cost 1.7693755426257556e+45, iteration 45\n",
            "m -5.119170332284003e+21, b -7.223589441164954e+19, cost 1.4818702628586706e+46, iteration 46\n",
            "m -1.4814761416595673e+22, b -2.0904902004804275e+20, cost 1.2410816262815793e+47, iteration 47\n",
            "m -4.287357942487693e+22, b -6.049830647074985e+20, cost 1.0394186601210116e+48, iteration 48\n",
            "m -1.2407515457131287e+23, b -1.750807100166093e+21, cost 8.705238464006052e+48, iteration 49\n",
            "m -3.5907064883326744e+23, b -5.066795553151639e+21, cost 7.290726982560408e+49, iteration 50\n",
            "m -1.039142214241123e+24, b -1.4663190008197808e+22, cost 6.1060590303201424e+50, iteration 51\n",
            "m -3.0072537115651327e+24, b -4.24349352487239e+22, cost 5.1138874039500124e+51, iteration 52\n",
            "m -8.702923201254715e+24, b -1.2280572839584375e+23, cost 4.282933435530092e+52, iteration 53\n",
            "m -2.518605994421338e+25, b -3.5539695862472814e+23, cost 3.587000918129895e+53, iteration 54\n",
            "m -7.28878792613103e+25, b -1.0285106391175597e+24, cost 3.0041502583082367e+54, iteration 55\n",
            "m -2.1093584923480474e+26, b -2.976486177235418e+24, cost 2.516006820315687e+55, iteration 56\n",
            "m -6.104435050564868e+26, b -8.613882663260296e+24, cost 2.1071816572317203e+56, iteration 57\n",
            "m -1.7666094891762128e+27, b -2.492837867143493e+25, cost 1.7647863673186314e+57, iteration 58\n",
            "m -5.11252730415839e+27, b -7.214215557369191e+25, cost 1.478026781215096e+58, iteration 59\n",
            "m -1.4795536645709649e+28, b -2.0877774200303358e+26, cost 1.2378626707708658e+59, iteration 60\n",
            "m -4.281794337929176e+28, b -6.041979922731967e+26, cost 1.0367227516867219e+60, iteration 61\n",
            "m -1.2391414513267219e+29, b -1.7485351185647821e+27, cost 8.682659952865135e+60, iteration 62\n",
            "m -3.586046912142683e+29, b -5.060220490557209e+27, cost 7.271817246648889e+61, iteration 63\n",
            "m -1.0377937435891143e+30, b -1.4644161927998679e+28, cost 6.0902219314958805e+62, iteration 64\n",
            "m -3.003351268456177e+30, b -4.2379868421471015e+28, cost 5.1006236703715504e+63, iteration 65\n",
            "m -8.691629620489018e+30, b -1.2264636626198866e+29, cost 4.2718249218816946e+64, iteration 66\n",
            "m -2.5153376580753546e+31, b -3.5493576826796e+29, cost 3.577697423397685e+65, iteration 67\n",
            "m -7.279329435779659e+31, b -1.0271759648130022e+30, cost 2.9963584855318016e+66, iteration 68\n",
            "m -2.1066212269550003e+32, b -2.9726236604392525e+30, cost 2.5094811302661804e+67, iteration 69\n",
            "m -6.0965134673590584e+32, b -8.602704628327189e+30, cost 2.1017163245219416e+68, iteration 70\n",
            "m -1.7643170011826863e+33, b -2.4896029694961923e+31, cost 1.7602090948153432e+69, iteration 71\n",
            "m -5.105892896535671e+33, b -7.204853837844129e+31, cost 1.4741932682924755e+70, iteration 72\n",
            "m -1.4776336822361089e+34, b -2.0850681598922582e+32, cost 1.2346520641667507e+71, iteration 73\n",
            "m -4.276237953130728e+34, b -6.034139386091099e+32, cost 1.0340338355478016e+72, iteration 74\n",
            "m -1.2375334463223038e+35, b -1.746266085261084e+33, cost 8.660140002918987e+72, iteration 75\n",
            "m -3.5813933825761995e+35, b -5.0536539602683845e+33, cost 7.25295655634188e+73, iteration 76\n",
            "m -1.0364470228160675e+36, b -1.4625158540096098e+34, cost 6.074425908871159e+74, iteration 77\n",
            "m -2.999453889456765e+36, b -4.232487305315747e+34, cost 5.087394338533791e+75, iteration 78\n",
            "m -8.680350695140076e+36, b -1.2248721092866347e+35, cost 4.2607452200458865e+76, iteration 79\n",
            "m -2.5120735629733336e+37, b -3.544751763871777e+35, cost 3.5684180588556266e+77, iteration 80\n",
            "m -7.269883219490945e+37, b -1.0258430224842075e+36, cost 2.988586922038447e+78, iteration 81\n",
            "m -2.1038875136475078e+38, b -2.968766155941182e+36, cost 2.5029723656996553e+79, iteration 82\n",
            "m -6.088602163807297e+38, b -8.591541098869699e+36, cost 2.096265167078695e+80, iteration 83\n",
            "m -1.762027488097441e+39, b -2.4863722697002343e+37, cost 1.7556436942439528e+81, iteration 84\n",
            "m -5.09926709822922e+39, b -7.195504266804477e+37, cost 1.470369698235244e+82, iteration 85\n",
            "m -1.4757161914176162e+40, b -2.0823624154979677e+38, cost 1.2314497848149295e+83, iteration 86\n",
            "m -4.270688778723435e+40, b -6.026309023932038e+38, cost 1.0313518935685497e+84, iteration 87\n",
            "m -1.2359275279885328e+41, b -1.743999996429063e+39, cost 8.637678462279242e+84, iteration 88\n",
            "m -3.576745891786665e+41, b -5.047095951212995e+39, cost 7.234144784431305e+85, iteration 89\n",
            "m -1.0351020496512059e+42, b -1.4606179812447452e+40, cost 6.058670855907907e+86, iteration 90\n",
            "m -2.9955615679953186e+42, b -4.2269949051052657e+40, cost 5.074199319209989e+87, iteration 91\n",
            "m -8.669086406189898e+42, b -1.2232826212750799e+41, cost 4.24969425529435e+88, iteration 92\n",
            "m -2.5088137036115136e+43, b -3.54015182205753e+41, cost 3.559162761917985e+89, iteration 93\n",
            "m -7.26044926133713e+43, b -1.0245118098836318e+42, cost 2.98083551541198e+90, iteration 94\n",
            "m -2.1011573478161128e+44, b -2.9649136572368664e+42, cost 2.4964804827170066e+91, iteration 95\n",
            "m -6.080701126569919e+44, b -8.580392056064414e+42, cost 2.0908281481360292e+92, iteration 96\n",
            "m -1.7597409460600098e+45, b -2.483145762308167e+43, cost 1.7510901348125965e+93, iteration 97\n",
            "m -5.092649898066933e+45, b -7.186166828485436e+43, cost 1.4665560452548977e+94, iteration 98\n",
            "m -1.4738011888823054e+46, b -2.0796601822851678e+44, cost 1.2282558111172647e+95, iteration 99\n",
            "m -1.4738011888823054e+46, b -2.0796601822851678e+44\n",
            "(array([1.01773624]), 1.9152193111569034)\n"
          ]
        }
      ]
    }
  ]
}